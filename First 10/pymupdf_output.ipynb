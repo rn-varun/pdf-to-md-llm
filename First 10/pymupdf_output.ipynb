{
 "cells": [
  {
   "cell_type": "markdown",
   "metadata": {},
   "source": [
    "### `to_markdown()` method's output using - PyMuPDF4LLM"
   ]
  },
  {
   "cell_type": "code",
   "execution_count": 10,
   "metadata": {},
   "outputs": [
    {
     "data": {
      "text/plain": [
       "1281"
      ]
     },
     "execution_count": 10,
     "metadata": {},
     "output_type": "execute_result"
    }
   ],
   "source": [
    "import pymupdf4llm\n",
    "import pathlib\n",
    "\n",
    "md_text = pymupdf4llm.to_markdown(\"./filled_flat/fw2_filled-flat.pdf\")\n",
    "pathlib.Path(\"./pymupdf_to_markdown_output/fw2_filled-flat.md\").write_bytes(md_text.encode())"
   ]
  },
  {
   "cell_type": "markdown",
   "metadata": {},
   "source": [
    "### LlamaIndex document\n"
   ]
  },
  {
   "cell_type": "code",
   "execution_count": 5,
   "metadata": {},
   "outputs": [],
   "source": [
    "import pymupdf4llm\n",
    "\n",
    "md_read = pymupdf4llm.LlamaMarkdownReader()\n",
    "data = md_read.load_data(\"./filled_flat/fw2_filled-flat.pdf\")"
   ]
  },
  {
   "cell_type": "code",
   "execution_count": 8,
   "metadata": {},
   "outputs": [
    {
     "name": "stdout",
     "output_type": "stream",
     "text": [
      "Doc ID: 685a5691-e468-4313-a5f5-cac3edd9937a\n",
      "Text: |22222|a Employee’s social security number 111-22-3333|Col3|OMB\n",
      "No. 1545-0029|Col5|Col6|Col7|Col8|Col9|\n",
      "|---|---|---|---|---|---|---|---|---| |b Employer identification\n",
      "number (EIN) 12-3456789||||1 Wages, tips, other compensation\n",
      "55000.00|||2 Federal income tax withheld 5000.00|| |c Employer’s name,\n",
      "address, and ZIP code Sample Employer Inc.||||...\n"
     ]
    }
   ],
   "source": [
    "for doc in data:\n",
    "    print(doc)"
   ]
  },
  {
   "cell_type": "code",
   "execution_count": 14,
   "metadata": {},
   "outputs": [],
   "source": [
    "import pymupdf4llm\n",
    " \n",
    "md_read = pymupdf4llm.LlamaMarkdownReader()\n",
    "data = md_read.load_data(\"./filled_flat/fw2_filled-flat.pdf\")\n",
    " \n",
    " \n",
    "markdown_text = \"\\n\\n\".join([doc.text for doc in data])\n",
    " \n",
    "output_path = \"./pymupdf_to_markdown_output/fw2_filled-flat_llamaindex.md\"\n",
    "with open(output_path, \"w\", encoding=\"utf-8\") as md_file:\n",
    "    md_file.write(markdown_text)\n",
    "# print(markdown_text)"
   ]
  },
  {
   "cell_type": "code",
   "execution_count": null,
   "metadata": {},
   "outputs": [],
   "source": []
  }
 ],
 "metadata": {
  "kernelspec": {
   "display_name": "pdfplumbing",
   "language": "python",
   "name": "python3"
  },
  "language_info": {
   "codemirror_mode": {
    "name": "ipython",
    "version": 3
   },
   "file_extension": ".py",
   "mimetype": "text/x-python",
   "name": "python",
   "nbconvert_exporter": "python",
   "pygments_lexer": "ipython3",
   "version": "3.13.2"
  }
 },
 "nbformat": 4,
 "nbformat_minor": 2
}
